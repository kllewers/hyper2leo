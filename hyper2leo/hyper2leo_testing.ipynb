{
 "cells": [
  {
   "cell_type": "code",
   "execution_count": 1,
   "metadata": {},
   "outputs": [
    {
     "name": "stdout",
     "output_type": "stream",
     "text": [
      "1400.0 nm\n"
     ]
    }
   ],
   "source": [
    "import hyper2leo as h2l\n",
    "\n",
    "x = h2l.um_to_nm(1.4)\n",
    "print(x)"
   ]
  },
  {
   "cell_type": "code",
   "execution_count": 2,
   "metadata": {},
   "outputs": [
    {
     "name": "stdout",
     "output_type": "stream",
     "text": [
      "The range 650 - 655 nanometers is Band 5 (the Red band) for Landsats 1-3\n"
     ]
    }
   ],
   "source": [
    "y = h2l.hyper_to_landsat_mss_1_3(650, 655)\n",
    "print(y)"
   ]
  },
  {
   "cell_type": "code",
   "execution_count": 4,
   "metadata": {},
   "outputs": [
    {
     "name": "stdout",
     "output_type": "stream",
     "text": [
      "The range 500 - 503 nanometers is in Band 4 (the Green band) for Landsats 1-3\n"
     ]
    }
   ],
   "source": [
    "b = h2l.hyper_to_landsat_mss_1_3(500, 503)\n",
    "print(b)"
   ]
  },
  {
   "cell_type": "code",
   "execution_count": 5,
   "metadata": {},
   "outputs": [
    {
     "name": "stdout",
     "output_type": "stream",
     "text": [
      "The range entered is outside of ranges for Landsat 1-3\n"
     ]
    }
   ],
   "source": [
    "z = h2l.hyper_to_landsat_mss_1_3(0, 5)\n",
    "print(z)"
   ]
  },
  {
   "cell_type": "code",
   "execution_count": 6,
   "metadata": {},
   "outputs": [
    {
     "name": "stdout",
     "output_type": "stream",
     "text": [
      "The range entered is outside of ranges for Landsat 1-3\n"
     ]
    }
   ],
   "source": [
    "a = h2l.hyper_to_landsat_mss_1_3(1000, 2000)\n",
    "print(a)"
   ]
  },
  {
   "cell_type": "code",
   "execution_count": 8,
   "metadata": {},
   "outputs": [
    {
     "name": "stdout",
     "output_type": "stream",
     "text": [
      "The range 500 - 503 nanometers is in Band 1 (the Green band) for Landsats 1-3\n"
     ]
    }
   ],
   "source": [
    "c = h2l.hyper_to_landsat_mss_4_5(500, 503)\n",
    "print(c)"
   ]
  },
  {
   "cell_type": "code",
   "execution_count": 9,
   "metadata": {},
   "outputs": [
    {
     "name": "stdout",
     "output_type": "stream",
     "text": [
      "The range 650 - 655 nanometers is Band 2 (the Red band) for Landsats 1-3\n"
     ]
    }
   ],
   "source": [
    "d = h2l.hyper_to_landsat_mss_4_5(650, 655)\n",
    "print(d)"
   ]
  },
  {
   "cell_type": "code",
   "execution_count": 10,
   "metadata": {},
   "outputs": [
    {
     "name": "stdout",
     "output_type": "stream",
     "text": [
      "The range entered is outside of ranges for Landsat 4-5\n"
     ]
    }
   ],
   "source": [
    "e = h2l.hyper_to_landsat_mss_4_5(1000, 2000)\n",
    "print(e)"
   ]
  }
 ],
 "metadata": {
  "kernelspec": {
   "display_name": "Python 3",
   "language": "python",
   "name": "python3"
  },
  "language_info": {
   "codemirror_mode": {
    "name": "ipython",
    "version": 3
   },
   "file_extension": ".py",
   "mimetype": "text/x-python",
   "name": "python",
   "nbconvert_exporter": "python",
   "pygments_lexer": "ipython3",
   "version": "3.9.6"
  }
 },
 "nbformat": 4,
 "nbformat_minor": 2
}
