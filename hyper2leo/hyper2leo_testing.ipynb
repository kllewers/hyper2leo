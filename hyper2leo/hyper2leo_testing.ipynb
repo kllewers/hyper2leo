{
 "cells": [
  {
   "cell_type": "code",
   "execution_count": 15,
   "metadata": {},
   "outputs": [
    {
     "name": "stdout",
     "output_type": "stream",
     "text": [
      "1400.0 nm\n"
     ]
    }
   ],
   "source": [
    "import hyper2leo as h2l\n",
    "\n",
    "x = h2l.um_to_nm(1.4)\n",
    "print(x)"
   ]
  },
  {
   "cell_type": "code",
   "execution_count": 20,
   "metadata": {},
   "outputs": [
    {
     "name": "stdout",
     "output_type": "stream",
     "text": [
      "The range 650 - 655 nanometers is Band 5 (the Red band) for Landsats 1-3\n"
     ]
    }
   ],
   "source": [
    "def hyper_to_landsat(range_min, range_max):\n",
    "    if range_max <= 800 and range_min > 700:\n",
    "        return f\"The range {range_min} - {range_max} nanometers is Band 6 (the NIR band) for Landsats 1-3\"\n",
    "    elif range_max <= 700 and range_min >= 600:\n",
    "        return f\"The range {range_min} - {range_max} nanometers is Band 5 (the Red band) for Landsats 1-3\"    \n",
    "    elif range_max <= 600 and range_min >= 500:\n",
    "        return f\"The range {range_min} - {range_max} nanometers is in Band 4 (the Green band) for Landsats 1-3\"\n",
    "    else:\n",
    "        return \"The range entered is outside of ranges for Landsat 1-3\"\n",
    "    \n",
    "print(hyper_to_landsat(650, 655))"
   ]
  },
  {
   "cell_type": "code",
   "execution_count": 21,
   "metadata": {},
   "outputs": [
    {
     "name": "stdout",
     "output_type": "stream",
     "text": [
      "The range 650 - 655 nanometers is in Band 4 (the Green band) for Landsats 1-3\n"
     ]
    }
   ],
   "source": []
  }
 ],
 "metadata": {
  "kernelspec": {
   "display_name": "Python 3",
   "language": "python",
   "name": "python3"
  },
  "language_info": {
   "codemirror_mode": {
    "name": "ipython",
    "version": 3
   },
   "file_extension": ".py",
   "mimetype": "text/x-python",
   "name": "python",
   "nbconvert_exporter": "python",
   "pygments_lexer": "ipython3",
   "version": "3.9.6"
  }
 },
 "nbformat": 4,
 "nbformat_minor": 2
}
